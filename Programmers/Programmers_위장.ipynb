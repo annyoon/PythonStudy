{
 "cells": [
  {
   "cell_type": "code",
   "execution_count": null,
   "metadata": {},
   "outputs": [],
   "source": [
    "def solution(clothes):\n",
    "    answer = 0\n",
    "    \n",
    "    dic = {}\n",
    "    sum = 1\n",
    "    \n",
    "    for i,j in clothes:\n",
    "        if j in dic:\n",
    "            dic[j] += 1\n",
    "        else:\n",
    "            dic[j] = 1\n",
    "    \n",
    "    for i in dic.values():\n",
    "        sum = sum * (i + 1)\n",
    "            \n",
    "    answer = sum - 1\n",
    "    \n",
    "    return answer"
   ]
  }
 ],
 "metadata": {
  "kernelspec": {
   "display_name": "Python 3",
   "language": "python",
   "name": "python3"
  },
  "language_info": {
   "codemirror_mode": {
    "name": "ipython",
    "version": 3
   },
   "file_extension": ".py",
   "mimetype": "text/x-python",
   "name": "python",
   "nbconvert_exporter": "python",
   "pygments_lexer": "ipython3",
   "version": "3.9.0"
  }
 },
 "nbformat": 4,
 "nbformat_minor": 4
}
